{
  "nbformat": 4,
  "nbformat_minor": 0,
  "metadata": {
    "colab": {
      "provenance": []
    },
    "kernelspec": {
      "name": "python3",
      "display_name": "Python 3"
    },
    "language_info": {
      "name": "python"
    },
    "gpuClass": "standard"
  },
  "cells": [
    {
      "cell_type": "markdown",
      "source": [
        "#Mini-Projeto FIFA World Cup \n"
      ],
      "metadata": {
        "id": "B2_C-kQXS3ZB"
      }
    },
    {
      "cell_type": "markdown",
      "source": [
        "## Tratamento de Dados"
      ],
      "metadata": {
        "id": "H3Ni18BRTGsP"
      }
    },
    {
      "cell_type": "code",
      "execution_count": null,
      "metadata": {
        "id": "LtWjcN0llJKR"
      },
      "outputs": [],
      "source": [
        "import pandas as pd\n",
        "import io\n",
        "import matplotlib.pyplot as plt"
      ]
    },
    {
      "cell_type": "code",
      "source": [
        "from google.colab import files\n",
        "uploaded = files.upload()"
      ],
      "metadata": {
        "colab": {
          "base_uri": "https://localhost:8080/",
          "height": 177
        },
        "id": "ek7Dr9CfvG03",
        "outputId": "09b9eb7b-f5bf-4e4e-eaf6-b713ba726a55"
      },
      "execution_count": null,
      "outputs": [
        {
          "output_type": "display_data",
          "data": {
            "text/plain": [
              "<IPython.core.display.HTML object>"
            ],
            "text/html": [
              "\n",
              "     <input type=\"file\" id=\"files-84d9c1b8-dd43-4ad4-b6d3-3173270f5c82\" name=\"files[]\" multiple disabled\n",
              "        style=\"border:none\" />\n",
              "     <output id=\"result-84d9c1b8-dd43-4ad4-b6d3-3173270f5c82\">\n",
              "      Upload widget is only available when the cell has been executed in the\n",
              "      current browser session. Please rerun this cell to enable.\n",
              "      </output>\n",
              "      <script>// Copyright 2017 Google LLC\n",
              "//\n",
              "// Licensed under the Apache License, Version 2.0 (the \"License\");\n",
              "// you may not use this file except in compliance with the License.\n",
              "// You may obtain a copy of the License at\n",
              "//\n",
              "//      http://www.apache.org/licenses/LICENSE-2.0\n",
              "//\n",
              "// Unless required by applicable law or agreed to in writing, software\n",
              "// distributed under the License is distributed on an \"AS IS\" BASIS,\n",
              "// WITHOUT WARRANTIES OR CONDITIONS OF ANY KIND, either express or implied.\n",
              "// See the License for the specific language governing permissions and\n",
              "// limitations under the License.\n",
              "\n",
              "/**\n",
              " * @fileoverview Helpers for google.colab Python module.\n",
              " */\n",
              "(function(scope) {\n",
              "function span(text, styleAttributes = {}) {\n",
              "  const element = document.createElement('span');\n",
              "  element.textContent = text;\n",
              "  for (const key of Object.keys(styleAttributes)) {\n",
              "    element.style[key] = styleAttributes[key];\n",
              "  }\n",
              "  return element;\n",
              "}\n",
              "\n",
              "// Max number of bytes which will be uploaded at a time.\n",
              "const MAX_PAYLOAD_SIZE = 100 * 1024;\n",
              "\n",
              "function _uploadFiles(inputId, outputId) {\n",
              "  const steps = uploadFilesStep(inputId, outputId);\n",
              "  const outputElement = document.getElementById(outputId);\n",
              "  // Cache steps on the outputElement to make it available for the next call\n",
              "  // to uploadFilesContinue from Python.\n",
              "  outputElement.steps = steps;\n",
              "\n",
              "  return _uploadFilesContinue(outputId);\n",
              "}\n",
              "\n",
              "// This is roughly an async generator (not supported in the browser yet),\n",
              "// where there are multiple asynchronous steps and the Python side is going\n",
              "// to poll for completion of each step.\n",
              "// This uses a Promise to block the python side on completion of each step,\n",
              "// then passes the result of the previous step as the input to the next step.\n",
              "function _uploadFilesContinue(outputId) {\n",
              "  const outputElement = document.getElementById(outputId);\n",
              "  const steps = outputElement.steps;\n",
              "\n",
              "  const next = steps.next(outputElement.lastPromiseValue);\n",
              "  return Promise.resolve(next.value.promise).then((value) => {\n",
              "    // Cache the last promise value to make it available to the next\n",
              "    // step of the generator.\n",
              "    outputElement.lastPromiseValue = value;\n",
              "    return next.value.response;\n",
              "  });\n",
              "}\n",
              "\n",
              "/**\n",
              " * Generator function which is called between each async step of the upload\n",
              " * process.\n",
              " * @param {string} inputId Element ID of the input file picker element.\n",
              " * @param {string} outputId Element ID of the output display.\n",
              " * @return {!Iterable<!Object>} Iterable of next steps.\n",
              " */\n",
              "function* uploadFilesStep(inputId, outputId) {\n",
              "  const inputElement = document.getElementById(inputId);\n",
              "  inputElement.disabled = false;\n",
              "\n",
              "  const outputElement = document.getElementById(outputId);\n",
              "  outputElement.innerHTML = '';\n",
              "\n",
              "  const pickedPromise = new Promise((resolve) => {\n",
              "    inputElement.addEventListener('change', (e) => {\n",
              "      resolve(e.target.files);\n",
              "    });\n",
              "  });\n",
              "\n",
              "  const cancel = document.createElement('button');\n",
              "  inputElement.parentElement.appendChild(cancel);\n",
              "  cancel.textContent = 'Cancel upload';\n",
              "  const cancelPromise = new Promise((resolve) => {\n",
              "    cancel.onclick = () => {\n",
              "      resolve(null);\n",
              "    };\n",
              "  });\n",
              "\n",
              "  // Wait for the user to pick the files.\n",
              "  const files = yield {\n",
              "    promise: Promise.race([pickedPromise, cancelPromise]),\n",
              "    response: {\n",
              "      action: 'starting',\n",
              "    }\n",
              "  };\n",
              "\n",
              "  cancel.remove();\n",
              "\n",
              "  // Disable the input element since further picks are not allowed.\n",
              "  inputElement.disabled = true;\n",
              "\n",
              "  if (!files) {\n",
              "    return {\n",
              "      response: {\n",
              "        action: 'complete',\n",
              "      }\n",
              "    };\n",
              "  }\n",
              "\n",
              "  for (const file of files) {\n",
              "    const li = document.createElement('li');\n",
              "    li.append(span(file.name, {fontWeight: 'bold'}));\n",
              "    li.append(span(\n",
              "        `(${file.type || 'n/a'}) - ${file.size} bytes, ` +\n",
              "        `last modified: ${\n",
              "            file.lastModifiedDate ? file.lastModifiedDate.toLocaleDateString() :\n",
              "                                    'n/a'} - `));\n",
              "    const percent = span('0% done');\n",
              "    li.appendChild(percent);\n",
              "\n",
              "    outputElement.appendChild(li);\n",
              "\n",
              "    const fileDataPromise = new Promise((resolve) => {\n",
              "      const reader = new FileReader();\n",
              "      reader.onload = (e) => {\n",
              "        resolve(e.target.result);\n",
              "      };\n",
              "      reader.readAsArrayBuffer(file);\n",
              "    });\n",
              "    // Wait for the data to be ready.\n",
              "    let fileData = yield {\n",
              "      promise: fileDataPromise,\n",
              "      response: {\n",
              "        action: 'continue',\n",
              "      }\n",
              "    };\n",
              "\n",
              "    // Use a chunked sending to avoid message size limits. See b/62115660.\n",
              "    let position = 0;\n",
              "    do {\n",
              "      const length = Math.min(fileData.byteLength - position, MAX_PAYLOAD_SIZE);\n",
              "      const chunk = new Uint8Array(fileData, position, length);\n",
              "      position += length;\n",
              "\n",
              "      const base64 = btoa(String.fromCharCode.apply(null, chunk));\n",
              "      yield {\n",
              "        response: {\n",
              "          action: 'append',\n",
              "          file: file.name,\n",
              "          data: base64,\n",
              "        },\n",
              "      };\n",
              "\n",
              "      let percentDone = fileData.byteLength === 0 ?\n",
              "          100 :\n",
              "          Math.round((position / fileData.byteLength) * 100);\n",
              "      percent.textContent = `${percentDone}% done`;\n",
              "\n",
              "    } while (position < fileData.byteLength);\n",
              "  }\n",
              "\n",
              "  // All done.\n",
              "  yield {\n",
              "    response: {\n",
              "      action: 'complete',\n",
              "    }\n",
              "  };\n",
              "}\n",
              "\n",
              "scope.google = scope.google || {};\n",
              "scope.google.colab = scope.google.colab || {};\n",
              "scope.google.colab._files = {\n",
              "  _uploadFiles,\n",
              "  _uploadFilesContinue,\n",
              "};\n",
              "})(self);\n",
              "</script> "
            ]
          },
          "metadata": {}
        },
        {
          "output_type": "stream",
          "name": "stdout",
          "text": [
            "Saving FIFA - 2006.csv to FIFA - 2006 (1).csv\n",
            "Saving FIFA - 2010.csv to FIFA - 2010 (1).csv\n",
            "Saving FIFA - 2014.csv to FIFA - 2014 (1).csv\n",
            "Saving FIFA - 2018.csv to FIFA - 2018 (1).csv\n"
          ]
        }
      ]
    },
    {
      "cell_type": "code",
      "source": [
        "#fazendo o tratamento dos arquivos csv\n",
        "\n",
        "numlist = ['06','10','14','18'] #dois ultimos numeros de cada ano da copa\n",
        "\n",
        "goalsfor_value = [] #lista para a variável de interesse Goals For\n",
        "goalsag_value = [] #lista para a variável de interesse Goals Against\n",
        "\n",
        "for num in numlist:\n",
        "  #usecols para pegar as colunas goals for e goals against e nrows para pegar os 15 primeiros colocados\n",
        "  wc_data = pd.read_csv(io.BytesIO(uploaded[f'FIFA - 20{num}.csv']), index_col = 'Position', usecols=['Position','Goals For','Goals Against'], nrows = 15)\n",
        "\n",
        "  goalsfor = wc_data['Goals For'].tolist()\n",
        "  goalsfor_value.extend(goalsfor) #concatena os valores goalsfor em uma lista geral das variáveis\n",
        "\n",
        "  goalsag = wc_data['Goals Against'].tolist()\n",
        "  goalsag_value.extend(goalsag) #concatena os valores goalsagainst em uma lista geral das variáveis\n",
        "\n",
        "print(list(goalsfor_value))\n",
        "print(list(goalsag_value))"
      ],
      "metadata": {
        "colab": {
          "base_uri": "https://localhost:8080/"
        },
        "id": "YxzIUsnOvQaD",
        "outputId": "beab0791-b231-4bf1-d5dd-d3ad28984a8c"
      },
      "execution_count": null,
      "outputs": [
        {
          "output_type": "stream",
          "name": "stdout",
          "text": [
            "[12, 9, 14, 7, 10, 11, 6, 5, 9, 4, 3, 5, 4, 3, 5, 8, 12, 16, 11, 10, 9, 5, 3, 4, 3, 7, 5, 3, 4, 6, 18, 8, 15, 11, 12, 6, 10, 5, 6, 5, 7, 4, 3, 7, 5, 14, 14, 16, 12, 7, 8, 6, 11, 6, 3, 3, 7, 6, 5, 6]\n",
            "[2, 3, 6, 5, 2, 3, 2, 7, 4, 0, 2, 4, 6, 4, 5, 2, 6, 5, 8, 6, 4, 4, 2, 2, 5, 1, 5, 5, 5, 8, 4, 4, 4, 14, 4, 3, 3, 2, 4, 3, 7, 6, 5, 7, 6, 6, 9, 6, 8, 3, 3, 4, 7, 3, 6, 2, 6, 6, 5, 9]\n"
          ]
        }
      ]
    },
    {
      "cell_type": "markdown",
      "source": [
        "\n",
        "## Análise Estatística"
      ],
      "metadata": {
        "id": "amz45GNlXXJY"
      }
    },
    {
      "cell_type": "code",
      "source": [
        "df_gfor = pd.DataFrame(data=goalsfor_value) #creating a dataframe from our variables list\n",
        "sdgo_for = df_gfor.std() #using the std function to get the standard deviation\n",
        "meango_for = df_gfor.mean() #using the mean function to get the mean\n",
        "\n",
        "df_gagsnt = pd.DataFrame(goalsag_value)\n",
        "sdgo_ag = df_gagsnt.std()\n",
        "meango_ag = df_gagsnt.mean()\n",
        "\n",
        "print(f'A lista de variáveis \"Goals For\" tem Desvio Padrão igual a {sdgo_for[0]} e Média de valor {meango_for[0]}')\n",
        "print(f'A lista de variáveis \"Goals Against\" tem Desvio Padrão igual a {sdgo_ag[0]} e Média de valor {meango_ag[0]}')"
      ],
      "metadata": {
        "colab": {
          "base_uri": "https://localhost:8080/"
        },
        "id": "zbhq-BfSq12X",
        "outputId": "6845d04d-249c-43d8-d28c-ca107742e6e5"
      },
      "execution_count": null,
      "outputs": [
        {
          "output_type": "stream",
          "name": "stdout",
          "text": [
            "A lista de variáveis \"Goals For\" tem Desvio Padrão igual a 3.887507152971783 e Média de valor 7.65\n",
            "A lista de variáveis \"Goals Against\" tem Desvio Padrão igual a 2.352784142317136 e Média de valor 4.7\n"
          ]
        }
      ]
    },
    {
      "cell_type": "code",
      "source": [
        "#funcao de limite minimo\n",
        "def lim_min(std, mean):\n",
        "  lim_inf = mean - (3*std)\n",
        "  return lim_inf\n",
        "\n",
        "#funcao de limite maximo\n",
        "def lim_max(std, mean):\n",
        "  lim_sup = mean + (3*std)\n",
        "  return lim_sup\n",
        "\n",
        "#limite superior e inferior da goals for list\n",
        "inf_gfor = lim_min(sdgo_for, meango_for)\n",
        "sup_gfor = lim_max(sdgo_for, meango_for)\n",
        "\n",
        "#limite superior e inferior da goals against list\n",
        "inf_gag = lim_min(sdgo_ag, meango_ag)\n",
        "sup_gag = lim_max(sdgo_ag, meango_ag)\n",
        "\n",
        "print(f'\"Goals For\" tem como limite superior o valor {sup_gfor[0]} e como limite inferior o valor de {inf_gfor[0]}')\n",
        "print(f'\"Goals Against\" tem como limite superior o valor {sup_gag[0]} e como limite inferior o valor de {inf_gag[0]}')\n"
      ],
      "metadata": {
        "id": "mXYAc2MT0gEX",
        "colab": {
          "base_uri": "https://localhost:8080/"
        },
        "outputId": "845b8788-b7fb-4c3b-f0c1-a70e0dab4091"
      },
      "execution_count": null,
      "outputs": [
        {
          "output_type": "stream",
          "name": "stdout",
          "text": [
            "\"Goals For\" tem como limite superior o valor 19.31252145891535 e como limite inferior o valor de -4.01252145891535\n",
            "\"Goals Against\" tem como limite superior o valor 11.758352426951408 e como limite inferior o valor de -2.3583524269514085\n"
          ]
        }
      ]
    },
    {
      "cell_type": "markdown",
      "source": [
        "## Plotagem de Gráficos"
      ],
      "metadata": {
        "id": "EpDcqAtrbQ0P"
      }
    },
    {
      "cell_type": "markdown",
      "source": [
        "### Gráfico de linha - \"Goals For\" \n"
      ],
      "metadata": {
        "id": "rG4redSIMPU_"
      }
    },
    {
      "cell_type": "code",
      "source": [
        "plt.axhline(y = sup_gfor[0], color = 'r', linestyle = '-') #limite superior\n",
        "plt.axhline(y = inf_gfor[0], color = 'g', linestyle = '-') #limite inferior\n",
        "\n",
        "plt.plot(goalsfor_value)\n",
        "plt.show()"
      ],
      "metadata": {
        "colab": {
          "base_uri": "https://localhost:8080/",
          "height": 265
        },
        "id": "yp88viKiMOxX",
        "outputId": "f721a4aa-4c5e-42bc-ea0d-5b636ab580e8"
      },
      "execution_count": null,
      "outputs": [
        {
          "output_type": "display_data",
          "data": {
            "text/plain": [
              "<Figure size 432x288 with 1 Axes>"
            ],
            "image/png": "[encoded data removed]"
          },
          "metadata": {
            "needs_background": "light"
          }
        }
      ]
    },
    {
      "cell_type": "markdown",
      "source": [
        "### Gráfico de linha - \"Gols Against\""
      ],
      "metadata": {
        "id": "LLpcxQl9iNE-"
      }
    },
    {
      "cell_type": "code",
      "source": [
        "plt.axhline(y = sup_gag[0], color = 'r', linestyle = '-') #limite superior\n",
        "plt.axhline(y = inf_gag[0], color = 'g', linestyle = '-') #limite inferior\n",
        "\n",
        "plt.plot(goalsag_value)\n",
        "plt.show()"
      ],
      "metadata": {
        "colab": {
          "base_uri": "https://localhost:8080/",
          "height": 265
        },
        "id": "MFa0O7toelKg",
        "outputId": "e0eaaa63-2368-4bb5-c482-2c75f96f4323"
      },
      "execution_count": null,
      "outputs": [
        {
          "output_type": "display_data",
          "data": {
            "text/plain": [
              "<Figure size 432x288 with 1 Axes>"
            ],
            "image/png": "[encoded data removed]"
          },
          "metadata": {
            "needs_background": "light"
          }
        }
      ]
    }
  ]
}